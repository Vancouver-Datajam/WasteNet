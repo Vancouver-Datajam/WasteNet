{
  "nbformat": 4,
  "nbformat_minor": 0,
  "metadata": {
    "colab": {
      "name": "train.ipynb",
      "provenance": [],
      "collapsed_sections": [],
      "toc_visible": true,
      "include_colab_link": true
    },
    "kernelspec": {
      "name": "python3",
      "display_name": "Python 3"
    },
    "accelerator": "GPU"
  },
  "cells": [
    {
      "cell_type": "markdown",
      "metadata": {
        "id": "view-in-github",
        "colab_type": "text"
      },
      "source": [
        "<a href=\"https://colab.research.google.com/github/zubiamansoor/project_3/blob/master/train.ipynb\" target=\"_parent\"><img src=\"https://colab.research.google.com/assets/colab-badge.svg\" alt=\"Open In Colab\"/></a>"
      ]
    },
    {
      "cell_type": "code",
      "metadata": {
        "id": "8EqKGRX7hcLr",
        "colab_type": "code",
        "colab": {}
      },
      "source": [
        "!pip3 install torch torchvision\n",
        "!unzip dataset-resized.zip"
      ],
      "execution_count": null,
      "outputs": []
    },
    {
      "cell_type": "code",
      "metadata": {
        "id": "EqqC-i67jU8Y",
        "colab_type": "code",
        "colab": {
          "base_uri": "https://localhost:8080/",
          "height": 34
        },
        "outputId": "fc8d6ea8-44c3-4d3a-8e3f-cb4e50e57c6c"
      },
      "source": [
        "import torch\n",
        "torch.cuda.is_available()"
      ],
      "execution_count": 12,
      "outputs": [
        {
          "output_type": "execute_result",
          "data": {
            "text/plain": [
              "True"
            ]
          },
          "metadata": {
            "tags": []
          },
          "execution_count": 12
        }
      ]
    },
    {
      "cell_type": "code",
      "metadata": {
        "id": "55BlWgJpiu3E",
        "colab_type": "code",
        "colab": {}
      },
      "source": [
        "\"\"\"Headers\"\"\"\n",
        "import os\n",
        "import os.path as osp\n",
        "import time\n",
        "\n",
        "%matplotlib inline\n",
        "import matplotlib.pyplot as plt\n",
        "\n",
        "import torch\n",
        "import torch.nn as nn\n",
        "import torchvision.models as models\n",
        "import torch.optim as optim\n",
        "\n",
        "from torchvision import datasets"
      ],
      "execution_count": 13,
      "outputs": []
    },
    {
      "cell_type": "code",
      "metadata": {
        "id": "2djZNjG7tTa5",
        "colab_type": "code",
        "colab": {}
      },
      "source": [
        "import os.path as osp\n",
        "import os\n",
        "\n",
        "import matplotlib.pyplot as plt\n",
        "import matplotlib\n",
        "#matplotlib.use('TkAgg')\n",
        "\n",
        "import numpy as np\n",
        "import torch\n",
        "from torch.utils.data import Dataset, DataLoader\n",
        "import torchvision\n",
        "import torchvision.transforms as transforms\n",
        "\n",
        "from __future__ import print_function\n",
        "from PIL import Image\n",
        "import numpy as np\n",
        "import sys\n",
        "if sys.version_info[0] == 2:\n",
        "    import cPickle as pickle\n",
        "else:\n",
        "    import pickle\n",
        "\n",
        "import math\n",
        "\n",
        "from skimage.transform import resize\n",
        "import scipy\n",
        "\n",
        "\n",
        "np.random.seed(111)\n",
        "torch.cuda.manual_seed_all(111)\n",
        "torch.manual_seed(111)\n",
        "\n",
        "\n",
        "class Dataset_Gary(Dataset):\n",
        "\n",
        "\tdef __init__(self, root, fold=\"train\",\n",
        "\t\t\t\t transform=None, target_transform=None):\n",
        "\t\t\n",
        "\t\tfold = fold.lower()\n",
        "\n",
        "\t\tself.train = False\n",
        "\t\tself.test = False\n",
        "\t\tself.val = False\n",
        "\n",
        "\t\tif fold == \"train\":\n",
        "\t\t\tself.train = True\n",
        "\t\telif fold == \"test\":\n",
        "\t\t\tself.test = True\n",
        "\t\telif fold == \"val\":\n",
        "\t\t\tself.val = True\n",
        "\t\telse:\n",
        "\t\t\traise RuntimeError(\"Not train-val-test\")\n",
        "\n",
        "\n",
        "\t\tself.root = os.path.expanduser(root)\n",
        "\t\tself.transform = transform\n",
        "\t\tself.target_transform = target_transform\n",
        "\n",
        "\t\tfpath = self.root\n",
        "\n",
        "\t\t# now load the picked numpy arrays\n",
        "\t\tself.data = []\n",
        "\t\tif self.train:\n",
        "\t\t\tself.datalist_dir = os.path.join(self.root, 'train_list.txt')\n",
        "\t\tif self.val:\n",
        "\t\t\tself.datalist_dir = os.path.join(self.root, 'val_list.txt')\n",
        "\t\tif self.test:\n",
        "\t\t\tself.datalist_dir = os.path.join(self.root, 'test_list.txt')\n",
        "\n",
        "\t\twith open(self.datalist_dir, 'r') as f:\n",
        "\t\t\tfor line in f:\n",
        "\t\t\t\tif line[0] == '#' or len(line.strip()) == 0:\n",
        "\t\t\t\t\tcontinue\n",
        "\t\t\t\tparams = line.strip().split()\n",
        "\t\t\t\tself.data.append({\n",
        "\t\t\t\t\t'file_name' : params[0],\n",
        "\t\t\t\t\t'label' : params[1],})\n",
        "\n",
        "\tdef __getitem__(self, index):\n",
        "\t\tlabel = self.data[index]['label']\n",
        "\t\tif label == 'cardboard':\n",
        "\t\t\ttarget = 0\n",
        "\t\tif label == 'glass':\n",
        "\t\t\ttarget = 1\n",
        "\t\tif label == 'metal':\n",
        "\t\t\ttarget = 2\n",
        "\t\tif label == 'paper':\n",
        "\t\t\ttarget = 3\n",
        "\t\tif label == 'plastic':\n",
        "\t\t\ttarget = 4\n",
        "\t\tif label == 'trash':\n",
        "\t\t\ttarget = 5\n",
        "\t\timg = plt.imread(osp.join(self.root, self.data[index]['label'], self.data[index]['file_name']))\n",
        "\n",
        "\t\t# doing this so that it is consistent with all other datasets\n",
        "\t\t# to return a PIL Image\n",
        "\t\timg = Image.fromarray(img)\n",
        "\n",
        "\t\tif self.transform is not None:\n",
        "\t\t\timg = self.transform(img)\n",
        "\n",
        "\t\tif self.target_transform is not None:\n",
        "\t\t\ttarget = self.target_transform(target)\n",
        "\n",
        "\t\treturn img, target\n",
        "\n",
        "\tdef __len__(self):\n",
        "\t\treturn len(self.data)\n",
        "\n"
      ],
      "execution_count": 14,
      "outputs": []
    },
    {
      "cell_type": "code",
      "metadata": {
        "id": "HUdo6AkH0maX",
        "colab_type": "code",
        "colab": {}
      },
      "source": [
        "class PreTrainedResNet(nn.Module):\n",
        "  def __init__(self, num_classes, feature_extracting):\n",
        "    super(PreTrainedResNet, self).__init__()\n",
        "    \n",
        "    #TODO1: Load pre-trained ResNet Model\n",
        "    self.resnet18 = models.resnet18(pretrained=True)\n",
        "\n",
        "    #VGG\n",
        "    #self.resnet18 = models.vgg19(pretrained=True)\n",
        "    #Set gradients to false\n",
        "    if feature_extracting:\n",
        "      for param in self.resnet18.parameters():\n",
        "          param.requires_grad = False\n",
        "    \n",
        "    #Replace last fc layer\n",
        "    num_feats = self.resnet18.fc.in_features\n",
        "    \n",
        "    #TODO2: Replace fc layer in resnet to a linear layer of size (num_feats, num_classes)\n",
        "    #self.resnet18.fc =  nn.Sequential(nn.Dropout(p=0.5),nn.Linear(num_feats,num_classes))\n",
        "    self.resnet18.fc =  nn.Linear(num_feats,num_classes)\n",
        "\n",
        "    #VGG19  \n",
        "    #self.resnet18 = nn.Sequential(self.resnet18,nn.Linear(1000,num_classes))\n",
        "\n",
        "  def forward(self, x):\n",
        "    #TODO3: Forward pass x through the model\n",
        "    x = self.resnet18.forward(x)\n",
        "    return x\n"
      ],
      "execution_count": 92,
      "outputs": []
    },
    {
      "cell_type": "code",
      "metadata": {
        "id": "ujUNEVsEvWwv",
        "colab_type": "code",
        "colab": {}
      },
      "source": [
        "def train(model, optimizer, criterion, epoch, num_epochs):\n",
        "  model.train()\n",
        "  epoch_loss = 0.0\n",
        "  epoch_acc = 0.0\n",
        "  \n",
        "  for batch_idx, (images, labels) in enumerate(dataloaders['train']):\n",
        "    #zero the parameter gradients\n",
        "    optimizer.zero_grad()\n",
        "    \n",
        "    #move to GPU\n",
        "    images, labels = images.cuda(), labels.cuda()\n",
        "    \n",
        "    #forward\n",
        "    outputs = model.forward(images)\n",
        "    \n",
        "    loss = criterion(outputs, labels)\n",
        "    \n",
        "    _, preds = torch.max(outputs.data, 1)\n",
        "    \n",
        "    loss.backward()\n",
        "    optimizer.step()\n",
        "    \n",
        "    epoch_loss += loss.item()\n",
        "    epoch_acc += torch.sum(preds == labels).item()\n",
        "    \n",
        "  epoch_loss /= dataset_sizes['train']\n",
        "  epoch_acc /= dataset_sizes['train']\n",
        "  \n",
        "  print('TRAINING Epoch %d/%d Loss %.4f Accuracy %.4f' % (epoch, num_epochs, epoch_loss, epoch_acc))\n",
        "\n",
        "  return epoch_loss, epoch_acc\n"
      ],
      "execution_count": 102,
      "outputs": []
    },
    {
      "cell_type": "code",
      "metadata": {
        "id": "Md7WhEJ_1XGS",
        "colab_type": "code",
        "colab": {}
      },
      "source": [
        "import sklearn.metrics as metric\n",
        "\n",
        "def test(model, criterion, repeats=2):\n",
        "  model.eval()\n",
        "  \n",
        "  test_loss = 0.0\n",
        "  test_acc = 0.0\n",
        "  f1_score = 0.0\n",
        "  f1_score_w = 0.0\n",
        "  conf_mat = np.zeros([len(class_names),len(class_names)])\n",
        "  with torch.no_grad():\n",
        "    for itr in range(repeats):\n",
        "      for batch_idx, (images, labels) in enumerate(dataloaders['test']):\n",
        "        #move to GPU\n",
        "        images, labels = images.cuda(), labels.cuda()\n",
        "\n",
        "        #forward\n",
        "        outputs = model.forward(images)\n",
        "        _, preds = torch.max(outputs.data, 1)\n",
        "\n",
        "        predlabels = preds.cpu().numpy()\n",
        "        labels_num = labels.cpu().numpy()\n",
        "        for ind,label in enumerate(labels_num):\n",
        "          conf_mat[label,predlabels[ind]] = conf_mat[label,predlabels[ind]] + 1\n",
        "        \n",
        "\n",
        "        loss = criterion(outputs, labels)\n",
        "\n",
        "        _, preds = torch.max(outputs.data, 1)\n",
        "\n",
        "        test_loss += loss.item()\n",
        "        test_acc += torch.sum(preds == labels).item()\n",
        "          \n",
        "        f1_score += metric.f1_score(labels_num, predlabels,labels=[0,1,2,3,4,5], average='weighted', zero_division='warn')\n",
        "        f1_score_w += metric.f1_score(labels_num, predlabels,labels=[0,1,2,3,4,5], average='macro', zero_division='warn')\n",
        "\n",
        "    test_loss /= (dataset_sizes['test']*repeats)\n",
        "    test_acc /= (dataset_sizes['test']*repeats)\n",
        "    f1_score /= (dataset_sizes['test']*repeats)\n",
        "\n",
        "\n",
        "    print('Test Loss: %.4f Test Accuracy %.4f Weighted: %.4f Macro: %.4f' % (test_loss, test_acc, f1_score, f1_score_w))\n",
        "    return test_loss, test_acc, conf_mat\n",
        "\n",
        "\n",
        "def val(model, criterion, repeats=2):\n",
        "  model.eval()\n",
        "  \n",
        "  test_loss = 0.0\n",
        "  test_acc = 0.0\n",
        "  \n",
        "  with torch.no_grad():\n",
        "    for itr in range(repeats):\n",
        "      for batch_idx, (images, labels) in enumerate(dataloaders['val']):\n",
        "        #move to GPU\n",
        "        images, labels = images.cuda(), labels.cuda()\n",
        "\n",
        "        #forward\n",
        "        outputs = model.forward(images)\n",
        "\n",
        "        loss = criterion(outputs, labels)\n",
        "\n",
        "        _, preds = torch.max(outputs.data, 1)\n",
        "\n",
        "        test_loss += loss.item()\n",
        "        test_acc += torch.sum(preds == labels).item()\n",
        "\n",
        "    test_loss /= (dataset_sizes['val']*repeats)\n",
        "    test_acc /= (dataset_sizes['val']*repeats)\n",
        "\n",
        "    print('Val Loss: %.4f Val Accuracy %.4f' % (test_loss, test_acc))\n",
        "\n",
        "    return test_loss, test_acc"
      ],
      "execution_count": 103,
      "outputs": []
    },
    {
      "cell_type": "code",
      "metadata": {
        "id": "OsmSIWL8ovUw",
        "colab_type": "code",
        "colab": {
          "base_uri": "https://localhost:8080/",
          "height": 561
        },
        "outputId": "4040157e-9282-46d2-ea25-af246f3b3744"
      },
      "source": [
        "#TODO: Vary Hyperparams\n",
        "\n",
        "NUM_EPOCHS = 25\n",
        "LEARNING_RATE = 0.001 \n",
        "BATCH_SIZE = 10\n",
        "RESNET_LAST_ONLY = False #Fine tunes only the last layer. Set to False to fine tune entire network\n",
        "\n",
        "root_path = 'dataset/' #If your data is in a different folder, set the path accodordingly\n",
        "\n",
        "data_transforms = {\n",
        "    'train': transforms.Compose([\n",
        "        transforms.Resize(384),\n",
        "        transforms.RandomHorizontalFlip(),\n",
        "        transforms.RandomVerticalFlip(),\n",
        "        transforms.ToTensor(),\n",
        "        transforms.Normalize(mean=[0.485, 0.456, 0.406], std=[0.229, 0.224, 0.225]),\n",
        "    ]),\n",
        "    'test': transforms.Compose([\n",
        "        transforms.Resize(384),\n",
        "        transforms.ToTensor(),\n",
        "        transforms.Normalize(mean=[0.485, 0.456, 0.406], std=[0.229, 0.224, 0.225]),\n",
        "    ]),\n",
        "}\n",
        "\n",
        "# loading datasets with PyTorch ImageFolder\n",
        "image_datasets_train = Dataset_Gary(root_path, fold=\"train\",\n",
        "\t\t\t\t transform=data_transforms['train'], target_transform=None)\n",
        "\n",
        "image_datasets_val = Dataset_Gary(root_path, fold=\"val\",\n",
        "\t\t\t\t transform=data_transforms['test'], target_transform=None)\n",
        "\n",
        "image_datasets_test = Dataset_Gary(root_path, fold=\"test\",\n",
        "\t\t\t\t transform=data_transforms['test'], target_transform=None)\n",
        "\n",
        "# defining data loaders to load data using image_datasets and transforms, here we also specify batch size for the mini batch\n",
        "\n",
        "dataloader_train = torch.utils.data.DataLoader(image_datasets_train, batch_size=BATCH_SIZE,\n",
        "                                             shuffle=True, num_workers=4)\n",
        "            \n",
        "dataloader_val = torch.utils.data.DataLoader(image_datasets_val, batch_size=BATCH_SIZE,\n",
        "                                             shuffle=True, num_workers=4)\n",
        "\n",
        "dataloader_test = torch.utils.data.DataLoader(image_datasets_test, batch_size=BATCH_SIZE,\n",
        "                                             shuffle=True, num_workers=4)\n",
        "\n",
        "dataloaders = {'train': dataloader_train, 'test': dataloader_test, 'val':dataloader_val}\n",
        "\n",
        "dataset_size_train = len(image_datasets_train)\n",
        "dataset_size_val = len(image_datasets_val)\n",
        "dataset_size_test = len(image_datasets_test)\n",
        "\n",
        "dataset_sizes = {'train': dataset_size_train, 'test': dataset_size_test, 'val':dataset_size_val}\n",
        "\n",
        "class_names = ['cardboard', 'glass', 'metal', 'paper', 'plastic', 'trash']\n",
        "\n",
        "#Initialize the model\n",
        "model = PreTrainedResNet(len(class_names), RESNET_LAST_ONLY)\n",
        "model = model.cuda()\n",
        "\n",
        "#Setting the optimizer and loss criterion\n",
        "optimizer = optim.SGD(model.parameters(), lr=LEARNING_RATE, momentum=0.9 , weight_decay=1e-3)\n",
        "\n",
        "weightlist = [1,1,1,1,1,4]\n",
        "weightlist = torch.Tensor(weightlist)\n",
        "weightlist = weightlist.cuda()\n",
        "criterion = nn.CrossEntropyLoss(weight = weightlist)\n",
        "\n",
        "train_loss_list =[]\n",
        "train_acc_list = []\n",
        "val_loss_list =[]\n",
        "val_acc_list = []\n",
        "\n",
        "#Begin Train\n",
        "for epoch in range(NUM_EPOCHS):\n",
        "  t1,t2 = train(model, optimizer, criterion, epoch+1, NUM_EPOCHS)\n",
        "  train_loss_list.append(t1)\n",
        "  train_acc_list.append(t2)\n",
        "  if (epoch+1) % 5 == 0:\n",
        "    t1,t2 = val(model, criterion)\n",
        "    val_loss_list.append(t1)\n",
        "    val_acc_list.append(t2)\n",
        "  \n",
        "print(\"Finished Training\")\n",
        "print(\"-\"*10)"
      ],
      "execution_count": 104,
      "outputs": [
        {
          "output_type": "stream",
          "text": [
            "TRAINING Epoch 1/25 Loss 0.1043 Accuracy 0.6131\n",
            "TRAINING Epoch 2/25 Loss 0.0595 Accuracy 0.7969\n",
            "TRAINING Epoch 3/25 Loss 0.0428 Accuracy 0.8512\n",
            "TRAINING Epoch 4/25 Loss 0.0353 Accuracy 0.8716\n",
            "TRAINING Epoch 5/25 Loss 0.0300 Accuracy 0.8903\n",
            "Val Loss: 0.0412 Val Accuracy 0.8417\n",
            "TRAINING Epoch 6/25 Loss 0.0271 Accuracy 0.9112\n",
            "TRAINING Epoch 7/25 Loss 0.0265 Accuracy 0.9191\n",
            "TRAINING Epoch 8/25 Loss 0.0180 Accuracy 0.9355\n",
            "TRAINING Epoch 9/25 Loss 0.0160 Accuracy 0.9446\n",
            "TRAINING Epoch 10/25 Loss 0.0128 Accuracy 0.9610\n",
            "Val Loss: 0.0284 Val Accuracy 0.8865\n",
            "TRAINING Epoch 11/25 Loss 0.0121 Accuracy 0.9576\n",
            "TRAINING Epoch 12/25 Loss 0.0107 Accuracy 0.9638\n",
            "TRAINING Epoch 13/25 Loss 0.0113 Accuracy 0.9587\n",
            "TRAINING Epoch 14/25 Loss 0.0079 Accuracy 0.9729\n",
            "TRAINING Epoch 15/25 Loss 0.0086 Accuracy 0.9723\n",
            "Val Loss: 0.0201 Val Accuracy 0.9446\n",
            "TRAINING Epoch 16/25 Loss 0.0074 Accuracy 0.9785\n",
            "TRAINING Epoch 17/25 Loss 0.0060 Accuracy 0.9847\n",
            "TRAINING Epoch 18/25 Loss 0.0068 Accuracy 0.9762\n",
            "TRAINING Epoch 19/25 Loss 0.0067 Accuracy 0.9779\n",
            "TRAINING Epoch 20/25 Loss 0.0073 Accuracy 0.9802\n",
            "Val Loss: 0.0177 Val Accuracy 0.9340\n",
            "TRAINING Epoch 21/25 Loss 0.0069 Accuracy 0.9796\n",
            "TRAINING Epoch 22/25 Loss 0.0047 Accuracy 0.9853\n",
            "TRAINING Epoch 23/25 Loss 0.0054 Accuracy 0.9830\n",
            "TRAINING Epoch 24/25 Loss 0.0072 Accuracy 0.9751\n",
            "TRAINING Epoch 25/25 Loss 0.0080 Accuracy 0.9751\n",
            "Val Loss: 0.0163 Val Accuracy 0.9525\n",
            "Finished Training\n",
            "----------\n"
          ],
          "name": "stdout"
        }
      ]
    },
    {
      "cell_type": "code",
      "metadata": {
        "id": "fv9IOqoXozir",
        "colab_type": "code",
        "colab": {
          "base_uri": "https://localhost:8080/",
          "height": 207
        },
        "outputId": "d3d89108-7924-437a-f7cc-a6ca623ba1b9"
      },
      "source": [
        "t1,t2,conf_mat = test(model, criterion)\n",
        "print('Conf Mat\\n',conf_mat)"
      ],
      "execution_count": 121,
      "outputs": [
        {
          "output_type": "stream",
          "text": [
            "/usr/local/lib/python3.6/dist-packages/sklearn/metrics/_classification.py:1515: UndefinedMetricWarning: F-score is ill-defined and being set to 0.0 in labels with no true nor predicted samples. Use `zero_division` parameter to control this behavior.\n",
            "  average, \"true nor predicted\", 'F-score is', len(true_sum)\n"
          ],
          "name": "stderr"
        },
        {
          "output_type": "stream",
          "text": [
            "Test Loss: 0.0340 Test Accuracy 0.9105 Weighted: 0.0913 Macro: 53.9973\n",
            "Conf Mat\n",
            " [[112.   0.   4.   6.   0.   0.]\n",
            " [  0. 136.   6.   0.   6.   0.]\n",
            " [  0.   6. 116.   0.   0.   0.]\n",
            " [  2.   0.  10. 190.   0.   6.]\n",
            " [  0.   0.   8.   4. 120.   2.]\n",
            " [  0.   4.   2.   0.   2.  18.]]\n"
          ],
          "name": "stdout"
        }
      ]
    },
    {
      "cell_type": "code",
      "metadata": {
        "id": "Rji12O1KTumN",
        "colab_type": "code",
        "colab": {
          "base_uri": "https://localhost:8080/",
          "height": 265
        },
        "outputId": "ac7421b5-a91c-4ccc-e879-d9b4940077b2"
      },
      "source": [
        "for i in range(6):\n",
        "  conf_mat[:,i] = conf_mat[:,i]/sum(conf_mat[:,i])\n",
        "\n",
        "plt.imshow(conf_mat, cmap='hot')\n",
        "\n",
        "plt.xticks([0,1,2,3,4,5],class_names)\n",
        "plt.yticks([0,1,2,3,4,5],class_names)\n",
        "plt.colorbar()\n",
        "plt.show()"
      ],
      "execution_count": 127,
      "outputs": [
        {
          "output_type": "display_data",
          "data": {
            "image/png": "[encoded data removed]",
            "text/plain": [
              "<Figure size 432x288 with 2 Axes>"
            ]
          },
          "metadata": {
            "tags": [],
            "needs_background": "light"
          }
        }
      ]
    },
    {
      "cell_type": "code",
      "metadata": {
        "id": "Zd_lkTdoUaOX",
        "colab_type": "code",
        "colab": {}
      },
      "source": [
        "\n",
        "def imshow(inp, title=None):\n",
        "    \"\"\"Imshow for Tensor.\"\"\"\n",
        "    inp = inp.numpy().transpose((1, 2, 0))\n",
        "    inp = np.clip(inp, 0, 1)\n",
        "    plt.imshow(inp)\n",
        "    if title is not None:\n",
        "        plt.title(title)\n",
        "    plt.pause(1)  # pause a bit so that plots are updated\n",
        "    \n",
        "def visualize_model(model, num_images=8):\n",
        "    images_so_far = 0\n",
        "    fig = plt.figure()\n",
        "\n",
        "    for batch_idx, (images, labels) in enumerate(dataloaders['test']):\n",
        "        #move to GPU\n",
        "        images, labels = images.cuda(), labels.cuda()\n",
        "        \n",
        "        outputs = model(images)\n",
        "        \n",
        "        _, preds = torch.max(outputs.data, 1)\n",
        "       \n",
        "\n",
        "        for j in range(images.size()[0]):\n",
        "            images_so_far += 1\n",
        "            ax = plt.subplot(num_images//2, 2, images_so_far)\n",
        "            ax.axis('off')\n",
        "            ax.set_title('class: {} predicted: {}'.format(class_names[labels.data[j]], class_names[preds[j]]))\n",
        "\n",
        "            imshow(images.cpu().data[j])\n",
        "\n",
        "            if images_so_far == num_images:\n",
        "                return"
      ],
      "execution_count": 35,
      "outputs": []
    },
    {
      "cell_type": "code",
      "metadata": {
        "id": "WUYa3X4ZrCqk",
        "colab_type": "code",
        "colab": {}
      },
      "source": [
        "visualize_model(model)"
      ],
      "execution_count": null,
      "outputs": []
    },
    {
      "cell_type": "code",
      "metadata": {
        "id": "irbulScrVkRi",
        "colab_type": "code",
        "colab": {
          "base_uri": "https://localhost:8080/",
          "height": 265
        },
        "outputId": "98961870-ec21-40e1-9844-ce4fe4d6ba38"
      },
      "source": [
        "train_loss_list\n",
        "train_acc_list\n",
        "val_loss_list\n",
        "val_acc_list \n",
        "\n",
        "\n",
        "plt.plot(train_loss_list)\n",
        "plt.ylabel('loss_list')\n",
        "plt.show()"
      ],
      "execution_count": 136,
      "outputs": [
        {
          "output_type": "display_data",
          "data": {
            "image/png": "[encoded data removed]",
            "text/plain": [
              "<Figure size 432x288 with 1 Axes>"
            ]
          },
          "metadata": {
            "tags": [],
            "needs_background": "light"
          }
        }
      ]
    }
  ]
}