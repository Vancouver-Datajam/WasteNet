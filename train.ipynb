{
  "nbformat": 4,
  "nbformat_minor": 0,
  "metadata": {
    "colab": {
      "name": "train.ipynb",
      "provenance": [],
      "collapsed_sections": [],
      "toc_visible": true,
      "include_colab_link": true
    },
    "kernelspec": {
      "name": "python3",
      "display_name": "Python 3"
    },
    "accelerator": "GPU"
  },
  "cells": [
    {
      "cell_type": "markdown",
      "metadata": {
        "id": "view-in-github",
        "colab_type": "text"
      },
      "source": [
        "<a href=\"https://colab.research.google.com/github/zubiamansoor/project_3/blob/master/train.ipynb\" target=\"_parent\"><img src=\"https://colab.research.google.com/assets/colab-badge.svg\" alt=\"Open In Colab\"/></a>"
      ]
    },
    {
      "cell_type": "code",
      "metadata": {
        "id": "8EqKGRX7hcLr",
        "colab_type": "code",
        "colab": {}
      },
      "source": [
        "!pip3 install torch torchvision\n",
        "!unzip dataset-resized.zip"
      ],
      "execution_count": null,
      "outputs": []
    },
    {
      "cell_type": "code",
      "metadata": {
        "id": "EqqC-i67jU8Y",
        "colab_type": "code",
        "colab": {
          "base_uri": "https://localhost:8080/",
          "height": 34
        },
        "outputId": "fc8d6ea8-44c3-4d3a-8e3f-cb4e50e57c6c"
      },
      "source": [
        "import torch\n",
        "torch.cuda.is_available()"
      ],
      "execution_count": 12,
      "outputs": [
        {
          "output_type": "execute_result",
          "data": {
            "text/plain": [
              "True"
            ]
          },
          "metadata": {
            "tags": []
          },
          "execution_count": 12
        }
      ]
    },
    {
      "cell_type": "code",
      "metadata": {
        "id": "55BlWgJpiu3E",
        "colab_type": "code",
        "colab": {}
      },
      "source": [
        "\"\"\"Headers\"\"\"\n",
        "import os\n",
        "import os.path as osp\n",
        "import time\n",
        "\n",
        "%matplotlib inline\n",
        "import matplotlib.pyplot as plt\n",
        "\n",
        "import torch\n",
        "import torch.nn as nn\n",
        "import torchvision.models as models\n",
        "import torch.optim as optim\n",
        "\n",
        "from torchvision import datasets"
      ],
      "execution_count": 13,
      "outputs": []
    },
    {
      "cell_type": "code",
      "metadata": {
        "id": "2djZNjG7tTa5",
        "colab_type": "code",
        "colab": {}
      },
      "source": [
        "import os.path as osp\n",
        "import os\n",
        "\n",
        "import matplotlib.pyplot as plt\n",
        "import matplotlib\n",
        "#matplotlib.use('TkAgg')\n",
        "\n",
        "import numpy as np\n",
        "import torch\n",
        "from torch.utils.data import Dataset, DataLoader\n",
        "import torchvision\n",
        "import torchvision.transforms as transforms\n",
        "\n",
        "from __future__ import print_function\n",
        "from PIL import Image\n",
        "import numpy as np\n",
        "import sys\n",
        "if sys.version_info[0] == 2:\n",
        "    import cPickle as pickle\n",
        "else:\n",
        "    import pickle\n",
        "\n",
        "import math\n",
        "\n",
        "from skimage.transform import resize\n",
        "import scipy\n",
        "\n",
        "\n",
        "np.random.seed(111)\n",
        "torch.cuda.manual_seed_all(111)\n",
        "torch.manual_seed(111)\n",
        "\n",
        "\n",
        "class Dataset_Gary(Dataset):\n",
        "\n",
        "\tdef __init__(self, root, fold=\"train\",\n",
        "\t\t\t\t transform=None, target_transform=None):\n",
        "\t\t\n",
        "\t\tfold = fold.lower()\n",
        "\n",
        "\t\tself.train = False\n",
        "\t\tself.test = False\n",
        "\t\tself.val = False\n",
        "\n",
        "\t\tif fold == \"train\":\n",
        "\t\t\tself.train = True\n",
        "\t\telif fold == \"test\":\n",
        "\t\t\tself.test = True\n",
        "\t\telif fold == \"val\":\n",
        "\t\t\tself.val = True\n",
        "\t\telse:\n",
        "\t\t\traise RuntimeError(\"Not train-val-test\")\n",
        "\n",
        "\n",
        "\t\tself.root = os.path.expanduser(root)\n",
        "\t\tself.transform = transform\n",
        "\t\tself.target_transform = target_transform\n",
        "\n",
        "\t\tfpath = self.root\n",
        "\n",
        "\t\t# now load the picked numpy arrays\n",
        "\t\tself.data = []\n",
        "\t\tif self.train:\n",
        "\t\t\tself.datalist_dir = os.path.join(self.root, 'train_list.txt')\n",
        "\t\tif self.val:\n",
        "\t\t\tself.datalist_dir = os.path.join(self.root, 'val_list.txt')\n",
        "\t\tif self.test:\n",
        "\t\t\tself.datalist_dir = os.path.join(self.root, 'test_list.txt')\n",
        "\n",
        "\t\twith open(self.datalist_dir, 'r') as f:\n",
        "\t\t\tfor line in f:\n",
        "\t\t\t\tif line[0] == '#' or len(line.strip()) == 0:\n",
        "\t\t\t\t\tcontinue\n",
        "\t\t\t\tparams = line.strip().split()\n",
        "\t\t\t\tself.data.append({\n",
        "\t\t\t\t\t'file_name' : params[0],\n",
        "\t\t\t\t\t'label' : params[1],})\n",
        "\n",
        "\tdef __getitem__(self, index):\n",
        "\t\tlabel = self.data[index]['label']\n",
        "\t\tif label == 'cardboard':\n",
        "\t\t\ttarget = 0\n",
        "\t\tif label == 'glass':\n",
        "\t\t\ttarget = 1\n",
        "\t\tif label == 'metal':\n",
        "\t\t\ttarget = 2\n",
        "\t\tif label == 'paper':\n",
        "\t\t\ttarget = 3\n",
        "\t\tif label == 'plastic':\n",
        "\t\t\ttarget = 4\n",
        "\t\tif label == 'trash':\n",
        "\t\t\ttarget = 5\n",
        "\t\timg = plt.imread(osp.join(self.root, self.data[index]['label'], self.data[index]['file_name']))\n",
        "\n",
        "\t\t# doing this so that it is consistent with all other datasets\n",
        "\t\t# to return a PIL Image\n",
        "\t\timg = Image.fromarray(img)\n",
        "\n",
        "\t\tif self.transform is not None:\n",
        "\t\t\timg = self.transform(img)\n",
        "\n",
        "\t\tif self.target_transform is not None:\n",
        "\t\t\ttarget = self.target_transform(target)\n",
        "\n",
        "\t\treturn img, target\n",
        "\n",
        "\tdef __len__(self):\n",
        "\t\treturn len(self.data)\n",
        "\n"
      ],
      "execution_count": 14,
      "outputs": []
    },
    {
      "cell_type": "code",
      "metadata": {
        "id": "HUdo6AkH0maX",
        "colab_type": "code",
        "colab": {}
      },
      "source": [
        "class PreTrainedResNet(nn.Module):\n",
        "  def __init__(self, num_classes, feature_extracting):\n",
        "    super(PreTrainedResNet, self).__init__()\n",
        "    \n",
        "    #TODO1: Load pre-trained ResNet Model\n",
        "    self.resnet18 = models.resnet18(pretrained=True)\n",
        "\n",
        "    #VGG\n",
        "    #self.resnet18 = models.vgg19(pretrained=True)\n",
        "    #Set gradients to false\n",
        "    if feature_extracting:\n",
        "      for param in self.resnet18.parameters():\n",
        "          param.requires_grad = False\n",
        "    \n",
        "    #Replace last fc layer\n",
        "    num_feats = self.resnet18.fc.in_features\n",
        "    \n",
        "    #TODO2: Replace fc layer in resnet to a linear layer of size (num_feats, num_classes)\n",
        "    #self.resnet18.fc =  nn.Sequential(nn.Dropout(p=0.5),nn.Linear(num_feats,num_classes))\n",
        "    self.resnet18.fc =  nn.Linear(num_feats,num_classes)\n",
        "\n",
        "    #VGG19  \n",
        "    #self.resnet18 = nn.Sequential(self.resnet18,nn.Linear(1000,num_classes))\n",
        "\n",
        "  def forward(self, x):\n",
        "    #TODO3: Forward pass x through the model\n",
        "    x = self.resnet18.forward(x)\n",
        "    return x\n"
      ],
      "execution_count": 15,
      "outputs": []
    },
    {
      "cell_type": "code",
      "metadata": {
        "id": "GSaa-iSL3IH3",
        "colab_type": "code",
        "colab": {
          "base_uri": "https://localhost:8080/",
          "height": 663
        },
        "outputId": "e39a87c8-4cef-4016-99da-20ae4dbd90d6"
      },
      "source": [
        "for batch_idx, (images, labels) in enumerate(dataloaders['test']):\n",
        "  print(images.shape,labels,batch_idx)"
      ],
      "execution_count": 31,
      "outputs": [
        {
          "output_type": "stream",
          "text": [
            "torch.Size([10, 3, 384, 512]) tensor([0, 0, 0, 0, 0, 0, 0, 0, 0, 0]) 0\n",
            "torch.Size([10, 3, 384, 512]) tensor([0, 0, 0, 0, 0, 0, 0, 0, 0, 0]) 1\n",
            "torch.Size([10, 3, 384, 512]) tensor([0, 0, 0, 0, 0, 0, 0, 0, 0, 0]) 2\n",
            "torch.Size([10, 3, 384, 512]) tensor([0, 0, 0, 0, 0, 0, 0, 0, 0, 0]) 3\n",
            "torch.Size([10, 3, 384, 512]) tensor([0, 0, 0, 0, 0, 0, 0, 0, 0, 0]) 4\n",
            "torch.Size([10, 3, 384, 512]) tensor([0, 0, 0, 0, 0, 0, 0, 0, 0, 0]) 5\n",
            "torch.Size([10, 3, 384, 512]) tensor([0, 1, 1, 1, 1, 1, 1, 1, 1, 1]) 6\n",
            "torch.Size([10, 3, 384, 512]) tensor([1, 1, 1, 1, 1, 1, 1, 1, 1, 1]) 7\n",
            "torch.Size([10, 3, 384, 512]) tensor([1, 1, 1, 1, 1, 1, 1, 1, 1, 1]) 8\n",
            "torch.Size([10, 3, 384, 512]) tensor([1, 1, 1, 1, 1, 1, 1, 1, 1, 1]) 9\n",
            "torch.Size([10, 3, 384, 512]) tensor([1, 1, 1, 1, 1, 1, 1, 1, 1, 1]) 10\n",
            "torch.Size([10, 3, 384, 512]) tensor([1, 1, 1, 1, 1, 1, 1, 1, 1, 1]) 11\n",
            "torch.Size([10, 3, 384, 512]) tensor([1, 1, 1, 1, 1, 1, 1, 1, 1, 1]) 12\n",
            "torch.Size([10, 3, 384, 512]) tensor([1, 1, 1, 1, 1, 2, 2, 2, 2, 2]) 13\n",
            "torch.Size([10, 3, 384, 512]) tensor([2, 2, 2, 2, 2, 2, 2, 2, 2, 2]) 14\n",
            "torch.Size([10, 3, 384, 512]) tensor([2, 2, 2, 2, 2, 2, 2, 2, 2, 2]) 15\n",
            "torch.Size([10, 3, 384, 512]) tensor([2, 2, 2, 2, 2, 2, 2, 2, 2, 2]) 16\n",
            "torch.Size([10, 3, 384, 512]) tensor([2, 2, 2, 2, 2, 2, 2, 2, 2, 2]) 17\n",
            "torch.Size([10, 3, 384, 512]) tensor([2, 2, 2, 2, 2, 2, 2, 2, 2, 2]) 18\n",
            "torch.Size([10, 3, 384, 512]) tensor([2, 2, 2, 2, 2, 2, 3, 3, 3, 3]) 19\n",
            "torch.Size([10, 3, 384, 512]) tensor([3, 3, 3, 3, 3, 3, 3, 3, 3, 3]) 20\n",
            "torch.Size([10, 3, 384, 512]) tensor([3, 3, 3, 3, 3, 3, 3, 3, 3, 3]) 21\n",
            "torch.Size([10, 3, 384, 512]) tensor([3, 3, 3, 3, 3, 3, 3, 3, 3, 3]) 22\n",
            "torch.Size([10, 3, 384, 512]) tensor([3, 3, 3, 3, 3, 3, 3, 3, 3, 3]) 23\n",
            "torch.Size([10, 3, 384, 512]) tensor([3, 3, 3, 3, 3, 3, 3, 3, 3, 3]) 24\n",
            "torch.Size([10, 3, 384, 512]) tensor([3, 3, 3, 3, 3, 3, 3, 3, 3, 3]) 25\n",
            "torch.Size([10, 3, 384, 512]) tensor([3, 3, 3, 3, 3, 3, 3, 3, 3, 3]) 26\n",
            "torch.Size([10, 3, 384, 512]) tensor([3, 3, 3, 3, 3, 3, 3, 3, 3, 3]) 27\n",
            "torch.Size([10, 3, 384, 512]) tensor([3, 3, 3, 3, 3, 3, 3, 3, 3, 3]) 28\n",
            "torch.Size([10, 3, 384, 512]) tensor([3, 3, 3, 3, 3, 3, 3, 3, 3, 3]) 29\n",
            "torch.Size([10, 3, 384, 512]) tensor([4, 4, 4, 4, 4, 4, 4, 4, 4, 4]) 30\n",
            "torch.Size([10, 3, 384, 512]) tensor([4, 4, 4, 4, 4, 4, 4, 4, 4, 4]) 31\n",
            "torch.Size([10, 3, 384, 512]) tensor([4, 4, 4, 4, 4, 4, 4, 4, 4, 4]) 32\n",
            "torch.Size([10, 3, 384, 512]) tensor([4, 4, 4, 4, 4, 4, 4, 4, 4, 4]) 33\n",
            "torch.Size([10, 3, 384, 512]) tensor([4, 4, 4, 4, 4, 4, 4, 4, 4, 4]) 34\n",
            "torch.Size([10, 3, 384, 512]) tensor([4, 4, 4, 4, 4, 4, 4, 4, 4, 4]) 35\n",
            "torch.Size([10, 3, 384, 512]) tensor([4, 4, 4, 4, 4, 4, 4, 5, 5, 5]) 36\n",
            "torch.Size([10, 3, 384, 512]) tensor([5, 5, 5, 5, 5, 5, 5, 5, 5, 5]) 37\n"
          ],
          "name": "stdout"
        }
      ]
    },
    {
      "cell_type": "code",
      "metadata": {
        "id": "ujUNEVsEvWwv",
        "colab_type": "code",
        "colab": {}
      },
      "source": [
        "def train(model, optimizer, criterion, epoch, num_epochs):\n",
        "  model.train()\n",
        "  epoch_loss = 0.0\n",
        "  epoch_acc = 0.0\n",
        "  \n",
        "  for batch_idx, (images, labels) in enumerate(dataloaders['train']):\n",
        "    #zero the parameter gradients\n",
        "    optimizer.zero_grad()\n",
        "    \n",
        "    #move to GPU\n",
        "    images, labels = images.cuda(), labels.cuda()\n",
        "    \n",
        "    #forward\n",
        "    outputs = model.forward(images)\n",
        "    \n",
        "    loss = criterion(outputs, labels)\n",
        "    \n",
        "    _, preds = torch.max(outputs.data, 1)\n",
        "    \n",
        "    loss.backward()\n",
        "    optimizer.step()\n",
        "    \n",
        "    epoch_loss += loss.item()\n",
        "    epoch_acc += torch.sum(preds == labels).item()\n",
        "    \n",
        "  epoch_loss /= dataset_sizes['train']\n",
        "  epoch_acc /= dataset_sizes['train']\n",
        "  \n",
        "  print('TRAINING Epoch %d/%d Loss %.4f Accuracy %.4f' % (epoch, num_epochs, epoch_loss, epoch_acc))"
      ],
      "execution_count": 16,
      "outputs": []
    },
    {
      "cell_type": "code",
      "metadata": {
        "id": "Md7WhEJ_1XGS",
        "colab_type": "code",
        "colab": {}
      },
      "source": [
        "def test(model, criterion, repeats=2):\n",
        "  model.eval()\n",
        "  \n",
        "  test_loss = 0.0\n",
        "  test_acc = 0.0\n",
        "  \n",
        "  with torch.no_grad():\n",
        "    for itr in range(repeats):\n",
        "      for batch_idx, (images, labels) in enumerate(dataloaders['test']):\n",
        "        #move to GPU\n",
        "        images, labels = images.cuda(), labels.cuda()\n",
        "\n",
        "        #forward\n",
        "        outputs = model.forward(images)\n",
        "\n",
        "        loss = criterion(outputs, labels)\n",
        "\n",
        "        _, preds = torch.max(outputs.data, 1)\n",
        "\n",
        "        test_loss += loss.item()\n",
        "        test_acc += torch.sum(preds == labels).item()\n",
        "\n",
        "    test_loss /= (dataset_sizes['test']*repeats)\n",
        "    test_acc /= (dataset_sizes['test']*repeats)\n",
        "\n",
        "    print('Test Loss: %.4f Test Accuracy %.4f' % (test_loss, test_acc))\n",
        "\n",
        "def val(model, criterion, repeats=2):\n",
        "  model.eval()\n",
        "  \n",
        "  test_loss = 0.0\n",
        "  test_acc = 0.0\n",
        "  \n",
        "  with torch.no_grad():\n",
        "    for itr in range(repeats):\n",
        "      for batch_idx, (images, labels) in enumerate(dataloaders['val']):\n",
        "        #move to GPU\n",
        "        images, labels = images.cuda(), labels.cuda()\n",
        "\n",
        "        #forward\n",
        "        outputs = model.forward(images)\n",
        "\n",
        "        loss = criterion(outputs, labels)\n",
        "\n",
        "        _, preds = torch.max(outputs.data, 1)\n",
        "\n",
        "        test_loss += loss.item()\n",
        "        test_acc += torch.sum(preds == labels).item()\n",
        "\n",
        "    test_loss /= (dataset_sizes['val']*repeats)\n",
        "    test_acc /= (dataset_sizes['val']*repeats)\n",
        "\n",
        "    print('Val Loss: %.4f Val Accuracy %.4f' % (test_loss, test_acc))"
      ],
      "execution_count": 32,
      "outputs": []
    },
    {
      "cell_type": "code",
      "metadata": {
        "id": "OsmSIWL8ovUw",
        "colab_type": "code",
        "colab": {
          "base_uri": "https://localhost:8080/",
          "height": 272
        },
        "outputId": "0670f6e9-f089-4222-ebbd-fddc5a453f1e"
      },
      "source": [
        "#TODO: Vary Hyperparams\n",
        "\n",
        "NUM_EPOCHS = 25\n",
        "LEARNING_RATE = 0.001 \n",
        "BATCH_SIZE = 10\n",
        "RESNET_LAST_ONLY = False #Fine tunes only the last layer. Set to False to fine tune entire network\n",
        "\n",
        "root_path = 'dataset/' #If your data is in a different folder, set the path accodordingly\n",
        "\n",
        "data_transforms = {\n",
        "    'train': transforms.Compose([\n",
        "        transforms.Resize(384),\n",
        "        transforms.RandomHorizontalFlip(),\n",
        "        transforms.RandomVerticalFlip(),\n",
        "        transforms.ToTensor(),\n",
        "#        transforms.Normalize(mean=[0.485, 0.456, 0.406], std=[0.229, 0.224, 0.225]),\n",
        "    ]),\n",
        "    'test': transforms.Compose([\n",
        "        transforms.Resize(384),\n",
        "        transforms.ToTensor(),\n",
        "#       transforms.Normalize(mean=[0.485, 0.456, 0.406], std=[0.229, 0.224, 0.225]),\n",
        "    ]),\n",
        "}\n",
        "\n",
        "# loading datasets with PyTorch ImageFolder\n",
        "image_datasets_train = Dataset_Gary(root_path, fold=\"train\",\n",
        "\t\t\t\t transform=data_transforms['train'], target_transform=None)\n",
        "\n",
        "image_datasets_val = Dataset_Gary(root_path, fold=\"val\",\n",
        "\t\t\t\t transform=data_transforms['test'], target_transform=None)\n",
        "\n",
        "image_datasets_test = Dataset_Gary(root_path, fold=\"test\",\n",
        "\t\t\t\t transform=data_transforms['test'], target_transform=None)\n",
        "\n",
        "# defining data loaders to load data using image_datasets and transforms, here we also specify batch size for the mini batch\n",
        "\n",
        "dataloader_train = torch.utils.data.DataLoader(image_datasets_train, batch_size=BATCH_SIZE,\n",
        "                                             shuffle=True, num_workers=4)\n",
        "            \n",
        "dataloader_val = torch.utils.data.DataLoader(image_datasets_val, batch_size=BATCH_SIZE,\n",
        "                                             shuffle=True, num_workers=4)\n",
        "\n",
        "dataloader_test = torch.utils.data.DataLoader(image_datasets_test, batch_size=BATCH_SIZE,\n",
        "                                             shuffle=True, num_workers=4)\n",
        "\n",
        "dataloaders = {'train': dataloader_train, 'test': dataloader_test, 'val':dataloader_val}\n",
        "\n",
        "dataset_size_train = len(image_datasets_train)\n",
        "dataset_size_val = len(image_datasets_val)\n",
        "dataset_size_test = len(image_datasets_test)\n",
        "\n",
        "dataset_sizes = {'train': dataset_size_train, 'test': dataset_size_test, 'val':dataset_size_val}\n",
        "\n",
        "class_names = ['cardboard', 'glass', 'metal', 'paper', 'plastic', 'trash']\n",
        "\n",
        "#Initialize the model\n",
        "model = PreTrainedResNet(len(class_names), RESNET_LAST_ONLY)\n",
        "model = model.cuda()\n",
        "\n",
        "#Setting the optimizer and loss criterion\n",
        "optimizer = optim.SGD(model.parameters(), lr=LEARNING_RATE, momentum=0.9 , weight_decay=1e-3)\n",
        "criterion = nn.CrossEntropyLoss()\n",
        "\n",
        "#Begin Train\n",
        "for epoch in range(NUM_EPOCHS):\n",
        "  train(model, optimizer, criterion, epoch+1, NUM_EPOCHS)\n",
        "  if (epoch+1) % 5 == 0:\n",
        "    val(model, criterion)\n",
        "  \n",
        "print(\"Finished Training\")\n",
        "print(\"-\"*10)"
      ],
      "execution_count": null,
      "outputs": [
        {
          "output_type": "stream",
          "text": [
            "TRAINING Epoch 1/25 Loss 0.1051 Accuracy 0.5922\n",
            "TRAINING Epoch 2/25 Loss 0.0564 Accuracy 0.8009\n",
            "TRAINING Epoch 3/25 Loss 0.0418 Accuracy 0.8586\n",
            "TRAINING Epoch 4/25 Loss 0.0319 Accuracy 0.8954\n",
            "TRAINING Epoch 5/25 Loss 0.0292 Accuracy 0.8971\n",
            "Val Loss: 0.0256 Val Accuracy 0.9156\n",
            "TRAINING Epoch 6/25 Loss 0.0260 Accuracy 0.9146\n",
            "TRAINING Epoch 7/25 Loss 0.0187 Accuracy 0.9282\n",
            "TRAINING Epoch 8/25 Loss 0.0184 Accuracy 0.9395\n",
            "TRAINING Epoch 9/25 Loss 0.0149 Accuracy 0.9536\n",
            "TRAINING Epoch 10/25 Loss 0.0134 Accuracy 0.9553\n",
            "Val Loss: 0.0169 Val Accuracy 0.9472\n",
            "TRAINING Epoch 11/25 Loss 0.0119 Accuracy 0.9644\n",
            "TRAINING Epoch 12/25 Loss 0.0103 Accuracy 0.9649\n",
            "TRAINING Epoch 13/25 Loss 0.0124 Accuracy 0.9587\n"
          ],
          "name": "stdout"
        }
      ]
    },
    {
      "cell_type": "code",
      "metadata": {
        "id": "fv9IOqoXozir",
        "colab_type": "code",
        "colab": {
          "base_uri": "https://localhost:8080/",
          "height": 34
        },
        "outputId": "a5c146e7-21cb-449f-c456-495126ea9c9e"
      },
      "source": [
        "test(model, criterion)"
      ],
      "execution_count": 34,
      "outputs": [
        {
          "output_type": "stream",
          "text": [
            "Test Loss: 0.0422 Test Accuracy 0.8526\n"
          ],
          "name": "stdout"
        }
      ]
    },
    {
      "cell_type": "code",
      "metadata": {
        "id": "Zd_lkTdoUaOX",
        "colab_type": "code",
        "colab": {}
      },
      "source": [
        "def imshow(inp, title=None):\n",
        "    \"\"\"Imshow for Tensor.\"\"\"\n",
        "    inp = inp.numpy().transpose((1, 2, 0))\n",
        "    inp = np.clip(inp, 0, 1)\n",
        "    plt.imshow(inp)\n",
        "    if title is not None:\n",
        "        plt.title(title)\n",
        "    plt.pause(1)  # pause a bit so that plots are updated\n",
        "    \n",
        "def visualize_model(model, num_images=8):\n",
        "    images_so_far = 0\n",
        "    fig = plt.figure()\n",
        "\n",
        "    for batch_idx, (images, labels) in enumerate(dataloaders['test']):\n",
        "        #move to GPU\n",
        "        images, labels = images.cuda(), labels.cuda()\n",
        "        \n",
        "        outputs = model(images)\n",
        "        \n",
        "        _, preds = torch.max(outputs.data, 1)\n",
        "       \n",
        "\n",
        "        for j in range(images.size()[0]):\n",
        "            images_so_far += 1\n",
        "            ax = plt.subplot(num_images//2, 2, images_so_far)\n",
        "            ax.axis('off')\n",
        "            ax.set_title('class: {} predicted: {}'.format(class_names[labels.data[j]], class_names[preds[j]]))\n",
        "\n",
        "            imshow(images.cpu().data[j])\n",
        "\n",
        "            if images_so_far == num_images:\n",
        "                return"
      ],
      "execution_count": 35,
      "outputs": []
    },
    {
      "cell_type": "code",
      "metadata": {
        "id": "WUYa3X4ZrCqk",
        "colab_type": "code",
        "colab": {
          "base_uri": "https://localhost:8080/",
          "height": 633
        },
        "outputId": "08c055f2-b6d5-4ed1-bd68-2632eb456508"
      },
      "source": [
        "visualize_model(model)"
      ],
      "execution_count": 36,
      "outputs": [
        {
          "output_type": "display_data",
          "data": {
            "image/png": "[encoded data removed]",
            "text/plain": [
              "<Figure size 432x288 with 1 Axes>"
            ]
          },
          "metadata": {
            "tags": [],
            "needs_background": "light"
          }
        },
        {
          "output_type": "display_data",
          "data": {
            "image/png": "[encoded data removed]",
            "text/plain": [
              "<Figure size 432x288 with 1 Axes>"
            ]
          },
          "metadata": {
            "tags": [],
            "needs_background": "light"
          }
        },
        {
          "output_type": "display_data",
          "data": {
            "image/png": "[encoded data removed]",
            "text/plain": [
              "<Figure size 432x288 with 1 Axes>"
            ]
          },
          "metadata": {
            "tags": [],
            "needs_background": "light"
          }
        },
        {
          "output_type": "display_data",
          "data": {
            "image/png": "[encoded data removed]",
            "text/plain": [
              "<Figure size 432x288 with 1 Axes>"
            ]
          },
          "metadata": {
            "tags": [],
            "needs_background": "light"
          }
        },
        {
          "output_type": "display_data",
          "data": {
            "image/png": "[encoded data removed]",
            "text/plain": [
              "<Figure size 432x288 with 1 Axes>"
            ]
          },
          "metadata": {
            "tags": [],
            "needs_background": "light"
          }
        },
        {
          "output_type": "display_data",
          "data": {
            "image/png": "[encoded data removed]",
            "text/plain": [
              "<Figure size 432x288 with 1 Axes>"
            ]
          },
          "metadata": {
            "tags": [],
            "needs_background": "light"
          }
        },
        {
          "output_type": "display_data",
          "data": {
            "image/png": "[encoded data removed]",
            "text/plain": [
              "<Figure size 432x288 with 1 Axes>"
            ]
          },
          "metadata": {
            "tags": [],
            "needs_background": "light"
          }
        },
        {
          "output_type": "display_data",
          "data": {
            "image/png": "[encoded data removed]",
            "text/plain": [
              "<Figure size 432x288 with 1 Axes>"
            ]
          },
          "metadata": {
            "tags": [],
            "needs_background": "light"
          }
        }
      ]
    }
  ]
}